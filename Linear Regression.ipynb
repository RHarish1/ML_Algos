{
 "cells": [
  {
   "cell_type": "code",
   "execution_count": 5,
   "metadata": {},
   "outputs": [
    {
     "name": "stdout",
     "output_type": "stream",
     "text": [
      "0.922\n",
      "0.904\n"
     ]
    }
   ],
   "source": [
    "import numpy as np\n",
    "from sklearn.model_selection import train_test_split\n",
    "\n",
    "# Load data from CSV file\n",
    "data = np.loadtxt('File_Name.csv', delimiter=',')\n",
    "# Separate features (X) and target variable (y)\n",
    "X = data[:, 0]\n",
    "y = data[:, 1]\n",
    "\n",
    "# Split the dataset into training and testing sets\n",
    "X_train, X_test, Y_train, Y_test = train_test_split(X, y, test_size=0.3, random_state=42)\n",
    "\n",
    "# Define a function to fit the linear regression model\n",
    "def fit(x_train, y_train):\n",
    "    # Calculate the slope (m) using the least squares method\n",
    "    num = (x_train * y_train).mean() - x_train.mean() * y_train.mean()\n",
    "    den = (x_train ** 2).mean() - x_train.mean() ** 2\n",
    "    m = num / den\n",
    "    # Calculate the intercept (c) of the regression line\n",
    "    c = y_train.mean() - m * x_train.mean()\n",
    "    return m, c\n",
    "\n",
    "# Define a function to predict the target variable\n",
    "def predict(x, m, c):\n",
    "    return m * x + c\n",
    "\n",
    "# Define a function to calculate the coefficient of determination (R^2 score)\n",
    "def score(y_truth, y_pred): \n",
    "    # Calculate the residual sum of squares (u) and total sum of squares (v)\n",
    "    u = ((y_truth - y_pred) ** 2).sum()\n",
    "    v = ((y_truth - y_truth.mean()) ** 2).sum()\n",
    "    # Calculate R^2 score\n",
    "    return 1 - u / v\n",
    "\n",
    "# Define a function to calculate the mean squared error (cost function)\n",
    "def cost(x, y, m, c):\n",
    "    return ((y - m * x - c) ** 2).mean()\n",
    "\n",
    "# Fit the linear regression model to the training data\n",
    "m, c = fit(X_train, Y_train)\n",
    "\n",
    "# Make predictions on both training and testing sets\n",
    "y_test_pred = predict(X_test, m, c)\n",
    "y_train_pred = predict(X_train, m, c)\n",
    "\n",
    "# Print the R^2 score for the testing and training sets\n",
    "print(round(score(Y_test, y_test_pred), 2))\n",
    "print(round(score(Y_train, y_train_pred), 2))\n",
    "\n",
    "# Print the mean squared error for the training set\n",
    "print(round(cost(X_train, Y_train, m, c), 2))\n"
   ]
  }
 ],
 "metadata": {
  "kernelspec": {
   "display_name": "Python 3",
   "language": "python",
   "name": "python3"
  },
  "language_info": {
   "codemirror_mode": {
    "name": "ipython",
    "version": 3
   },
   "file_extension": ".py",
   "mimetype": "text/x-python",
   "name": "python",
   "nbconvert_exporter": "python",
   "pygments_lexer": "ipython3",
   "version": "3.11.7"
  }
 },
 "nbformat": 4,
 "nbformat_minor": 2
}
